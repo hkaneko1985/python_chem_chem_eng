{
 "cells": [
  {
   "cell_type": "markdown",
   "metadata": {},
   "source": [
    "# Python で気軽に化学・化学工学\n",
    "# 第 10 章 モデルの逆解析\n",
    "## 10.1 仮想サンプルの生成"
   ]
  },
  {
   "cell_type": "markdown",
   "metadata": {},
   "source": [
    "## Jupyter Notebook の有用なショートカットのまとめ\n",
    "- <kbd>Esc</kbd>: コマンドモードに移行（セルの枠が青）\n",
    "- <kbd>Enter</kbd>: 編集モードに移行（セルの枠が緑）\n",
    "- コマンドモードで <kbd>M</kbd>: Markdown セル (説明・メモを書く用) に変更\n",
    "- コマンドモードで <kbd>Y</kbd>: Code セル (Python コードを書く用) に変更\n",
    "- コマンドモードで <kbd>H</kbd>: ヘルプを表示\n",
    "- コマンドモードで <kbd>A</kbd>: ひとつ**上**に空のセルを挿入\n",
    "- コマンドモードで <kbd>B</kbd>: ひとつ**下**に空のセルを挿入\n",
    "- コマンドモードで <kbd>D</kbd><kbd>D</kbd>: セルを削除\n",
    "- <kbd>Ctrl</kbd>+<kbd>Enter</kbd>: セルの内容を実行\n",
    "- <kbd>Shift</kbd>+<kbd>Enter</kbd>: セルの内容を実行して下へ"
   ]
  },
  {
   "cell_type": "markdown",
   "metadata": {},
   "source": [
    "わからないことがありましたら、関係する単語やエラーの文章などでウェブ検索してご自身で調べてみましょう。"
   ]
  },
  {
   "cell_type": "code",
   "execution_count": null,
   "metadata": {},
   "outputs": [],
   "source": [
    "import pandas as pd # pandas のインポート\n",
    "import numpy as np # NumPy のインポート"
   ]
  },
  {
   "cell_type": "markdown",
   "metadata": {},
   "source": [
    "既存のデータセット (今回は仮想的な樹脂材料のデータセット `virtual_resin.csv`) を使用して、生成するサンプルにおける特徴量ごとの上限値と下限値を設定します。`virtual_resin.csv` のような既存のデータセットがない場合など、特徴量ごとの上限値と下限値を任意に設定したい場合は、以下の 9 つの Code セルを飛ばして、**【参考】上限値と下限値を自由に設定** に進みましょう。"
   ]
  },
  {
   "cell_type": "markdown",
   "metadata": {},
   "source": [
    "### 仮想的な樹脂材料のデータセット (virtual_resin.csv)\n",
    "\n",
    "原料として 3 種類 (raw material 1, raw material 2, raw material 3) あり、それらの組成比と重合温度 (temperature)・重合時間 (time) をそれぞれ変えて樹脂材料が作られ、物性 a (property a) と物性 b (property b) が測定されたような 20 サンプルがあるとします。データセットのファイルは virtual_resin.csv です。"
   ]
  },
  {
   "cell_type": "code",
   "execution_count": null,
   "metadata": {},
   "outputs": [],
   "source": [
    "dataset = pd.read_csv('virtual_resin.csv', index_col=0, header=0) # 仮想的な樹脂のデータセットの読み込み"
   ]
  },
  {
   "cell_type": "code",
   "execution_count": null,
   "metadata": {},
   "outputs": [],
   "source": [
    "dataset # 念のため確認"
   ]
  },
  {
   "cell_type": "code",
   "execution_count": null,
   "metadata": {},
   "outputs": [],
   "source": [
    "x = dataset.iloc[:, 2:]  # 説明変数のみ x に"
   ]
  },
  {
   "cell_type": "code",
   "execution_count": null,
   "metadata": {},
   "outputs": [],
   "source": [
    "x # 念のため確認"
   ]
  },
  {
   "cell_type": "code",
   "execution_count": null,
   "metadata": {},
   "outputs": [],
   "source": [
    "# x の最大値の何割を上限値にするか、x の最小値の何割を下限値にするか\n",
    "# テキスト化されていますが、下の二行のようにすると、x の最大値の 1.1 倍を上限値に、x の最小値の 0.9 倍を下限値にできます\n",
    "x_max_rate = 1 \n",
    "x_min_rate = 1\n",
    "#x_max_rate = 1.1 \n",
    "#x_min_rate = 0.9"
   ]
  },
  {
   "cell_type": "code",
   "execution_count": null,
   "metadata": {},
   "outputs": [],
   "source": [
    "x_upper = x.max() * x_max_rate"
   ]
  },
  {
   "cell_type": "code",
   "execution_count": null,
   "metadata": {},
   "outputs": [],
   "source": [
    "x_upper # 念のため確認"
   ]
  },
  {
   "cell_type": "code",
   "execution_count": null,
   "metadata": {},
   "outputs": [],
   "source": [
    "x_lower = x.min() * x_min_rate"
   ]
  },
  {
   "cell_type": "code",
   "execution_count": null,
   "metadata": {},
   "outputs": [],
   "source": [
    "x_lower # 念のため確認"
   ]
  },
  {
   "cell_type": "markdown",
   "metadata": {},
   "source": [
    "### 【参考】上限値と下限値を自由に設定\n",
    "生成するサンプルにおける特徴量ごとの上限値と下限値を csv ファイルで事前に設定しておき、それを読み込むことで、特徴量ごとの上限値と下限値を自由に設定できます。今回の `virtual_resin.csv` のような既存のデータセットがなく、第 11 章の実験計画法で行うように最初の実験条件を設定するときにも有効です。  \n",
    "  \n",
    "特徴量ごとの上限値と下限値を任意に設定したい場合は (`virtual_resin.csv` のような既存のデータセットがない場合は上の 9 つの Code セルを飛ばして)、以下の 6 つの Code セルの説明を読みながら実行しましょう。  \n",
    "  \n",
    "すでに設定した上限値 `x_upper` と下限値 `x_lower` で問題ない場合は、以下の 6 つの Code セルを飛ばしましょう。"
   ]
  },
  {
   "cell_type": "code",
   "execution_count": null,
   "metadata": {},
   "outputs": [],
   "source": [
    "x = pd.read_csv('virtual_resin_upper_lower.csv', index_col=0, header=0) # 特徴量の最大値と最小値の読み込み"
   ]
  },
  {
   "cell_type": "code",
   "execution_count": null,
   "metadata": {},
   "outputs": [],
   "source": [
    "x # 念のため確認"
   ]
  },
  {
   "cell_type": "code",
   "execution_count": null,
   "metadata": {},
   "outputs": [],
   "source": [
    "x_upper = x.iloc[0, :] # 上限値"
   ]
  },
  {
   "cell_type": "code",
   "execution_count": null,
   "metadata": {},
   "outputs": [],
   "source": [
    "x_upper # 念のため確認"
   ]
  },
  {
   "cell_type": "code",
   "execution_count": null,
   "metadata": {},
   "outputs": [],
   "source": [
    "x_lower = x.iloc[1, :] # 下限値"
   ]
  },
  {
   "cell_type": "code",
   "execution_count": null,
   "metadata": {},
   "outputs": [],
   "source": [
    "x_lower # 念のため確認"
   ]
  },
  {
   "cell_type": "markdown",
   "metadata": {},
   "source": [
    "サンプルの生成"
   ]
  },
  {
   "cell_type": "code",
   "execution_count": null,
   "metadata": {},
   "outputs": [],
   "source": [
    "number_of_generated_samples = 10000 # 生成するサンプル数"
   ]
  },
  {
   "cell_type": "code",
   "execution_count": null,
   "metadata": {},
   "outputs": [],
   "source": [
    "generated_x = np.random.rand(number_of_generated_samples, x.shape[1]) # 0 から 1 の間の一様乱数でサンプル生成"
   ]
  },
  {
   "cell_type": "code",
   "execution_count": null,
   "metadata": {},
   "outputs": [],
   "source": [
    "generated_x # 念のため確認。array 型で生成されます"
   ]
  },
  {
   "cell_type": "code",
   "execution_count": null,
   "metadata": {},
   "outputs": [],
   "source": [
    "generated_x = generated_x * (x_upper.values - x_lower.values) + x_lower.values # 上限値から下限値までの間に変換"
   ]
  },
  {
   "cell_type": "code",
   "execution_count": null,
   "metadata": {},
   "outputs": [],
   "source": [
    "generated_x # 念のため確認。"
   ]
  },
  {
   "cell_type": "markdown",
   "metadata": {},
   "source": [
    "もし、強制的に値を 0 にしたい特徴量があれば、下の Code セルにおいて list の変数 `zero_variable_numbers` でそれらの特徴量の番号を指定して (複数の番号 OK) 実行してから、さらに次の Code セルで実際に 0 にしてください。  \n",
    "その必要がなければ、以下の 3 つの Code セルを実行せずに飛ばしてください。  \n",
    "  \n",
    "今回は 0 にすべき特徴量がないため、3 つの Code セルを実行せずに飛ばします。"
   ]
  },
  {
   "cell_type": "code",
   "execution_count": null,
   "metadata": {},
   "outputs": [],
   "source": [
    "zero_variable_numbers = [0, 2] # 0 にする特徴量の番号"
   ]
  },
  {
   "cell_type": "code",
   "execution_count": null,
   "metadata": {},
   "outputs": [],
   "source": [
    "generated_x[:, zero_variable_numbers] = np.zeros([generated_x.shape[0], len(zero_variable_numbers)]) # 特徴帳を強制的に 0 に"
   ]
  },
  {
   "cell_type": "code",
   "execution_count": null,
   "metadata": {},
   "outputs": [],
   "source": [
    "generated_x # 念のため確認"
   ]
  },
  {
   "cell_type": "markdown",
   "metadata": {},
   "source": [
    "今回は、raw_material_1 から raw_material_3 までの合計が 1 という制約がありました。このように、いくつかの特徴量の合計に制約があるときは、以下の 8 つの Code セルを読みながら実行しましょう。  \n",
    "そのような制約がないときは、9 つの Code セルを実行せずに飛ばしてください。"
   ]
  },
  {
   "cell_type": "code",
   "execution_count": null,
   "metadata": {},
   "outputs": [],
   "source": [
    "from numpy import matlib # NumPy における必要なライブラリをインポート"
   ]
  },
  {
   "cell_type": "code",
   "execution_count": null,
   "metadata": {},
   "outputs": [],
   "source": [
    "desired_sum_of_components = 1 # たとえば、この値を 100 にすれば、和を 100 にできます"
   ]
  },
  {
   "cell_type": "code",
   "execution_count": null,
   "metadata": {},
   "outputs": [],
   "source": [
    "list_of_component_numbers = [0, 1, 2] # 和を desired_sum_of_components にしたい特徴量の番号"
   ]
  },
  {
   "cell_type": "code",
   "execution_count": null,
   "metadata": {},
   "outputs": [],
   "source": [
    "actual_sum_of_components = generated_x[:, list_of_component_numbers].sum(axis=1)"
   ]
  },
  {
   "cell_type": "code",
   "execution_count": null,
   "metadata": {},
   "outputs": [],
   "source": [
    "actual_sum_of_components # 念のため確認"
   ]
  },
  {
   "cell_type": "code",
   "execution_count": null,
   "metadata": {},
   "outputs": [],
   "source": [
    "actual_sum_of_components_converted = np.matlib.repmat(np.reshape(actual_sum_of_components, (generated_x.shape[0], 1)) , 1, len(list_of_component_numbers))"
   ]
  },
  {
   "cell_type": "code",
   "execution_count": null,
   "metadata": {},
   "outputs": [],
   "source": [
    "actual_sum_of_components_converted # 念のため確認"
   ]
  },
  {
   "cell_type": "code",
   "execution_count": null,
   "metadata": {},
   "outputs": [],
   "source": [
    "generated_x[:, list_of_component_numbers] = generated_x[:, list_of_component_numbers] / actual_sum_of_components_converted * desired_sum_of_components # 対象の特徴量を合計で割り、制約の値を掛けます"
   ]
  },
  {
   "cell_type": "code",
   "execution_count": null,
   "metadata": {},
   "outputs": [],
   "source": [
    "generated_x[:, list_of_component_numbers].sum(axis=1) # 対象の特徴量の合計が desired_sum_of_components になっていることを確認 "
   ]
  },
  {
   "cell_type": "markdown",
   "metadata": {},
   "source": [
    "いくつかの特徴量の合計に制約があり、制約を満たすように `generated_x` の特徴量の値を変換したとき、特徴量によっては変換することで `x_upper` を超えてしまったり、`x_lower` を下回ってしまったりするサンプルがあると考えられます。次の 7 つの Code セルを実行することで、そのようなサンプルを削除できます。モデルの適用範囲 (Applicability Domain, AD) の観点から削除するほうが望ましいです。"
   ]
  },
  {
   "cell_type": "code",
   "execution_count": null,
   "metadata": {},
   "outputs": [],
   "source": [
    "deleting_sample_numbers, corresponding_variable_numbers = np.where(generated_x > x_upper.values)"
   ]
  },
  {
   "cell_type": "code",
   "execution_count": null,
   "metadata": {},
   "outputs": [],
   "source": [
    "deleting_sample_numbers # 念のため確認"
   ]
  },
  {
   "cell_type": "code",
   "execution_count": null,
   "metadata": {},
   "outputs": [],
   "source": [
    "generated_x = np.delete(generated_x, deleting_sample_numbers, axis=0)"
   ]
  },
  {
   "cell_type": "code",
   "execution_count": null,
   "metadata": {},
   "outputs": [],
   "source": [
    "deleting_sample_numbers, corresponding_variable_numbers = np.where(generated_x < x_lower.values)"
   ]
  },
  {
   "cell_type": "code",
   "execution_count": null,
   "metadata": {},
   "outputs": [],
   "source": [
    "deleting_sample_numbers # 念のため確認"
   ]
  },
  {
   "cell_type": "code",
   "execution_count": null,
   "metadata": {},
   "outputs": [],
   "source": [
    "generated_x = np.delete(generated_x, deleting_sample_numbers, axis=0)"
   ]
  },
  {
   "cell_type": "code",
   "execution_count": null,
   "metadata": {},
   "outputs": [],
   "source": [
    "generated_x.shape # 念のため確認。削除されると、サンプルが少なくなります"
   ]
  },
  {
   "cell_type": "markdown",
   "metadata": {},
   "source": [
    "四捨五入で端数処理をしたいときは、下の Code セルにおいて list の変数 `effective_digits` で特徴量ごとの桁の数を指定して実行してから、さらに次の Code セルを実行してください。桁数の指定の仕方として、小数点 *m* 桁目まで残したい ((*m* + 1) 桁目を四捨五入したい) 場合は `m`、10 の *n* 乗の位まで残したい (10 の (*n* - 1) 乗の位で四捨五入したい) 場合は `-n` とします。  \n",
    "その必要がなければ、以下の 3 つの Code セルを実行せずに飛ばしてください。  \n",
    "今回は、`raw_material_1`, `raw_material_2`, `raw_material_3` の特徴量は小数点 2 桁目まで残し、`temperature` の特徴量は 10 の 0 乗の位まで残し, `time` の特徴量は 10 の 1 乗の位まで残すようにします。"
   ]
  },
  {
   "cell_type": "code",
   "execution_count": null,
   "metadata": {},
   "outputs": [],
   "source": [
    "effective_digits = [2, 2, 2, 0, -1] # 特徴量ごとの、桁数の設定"
   ]
  },
  {
   "cell_type": "code",
   "execution_count": null,
   "metadata": {},
   "outputs": [],
   "source": [
    "for feature_number in range(generated_x.shape[1]):\n",
    "    generated_x[:, feature_number] = np.round(generated_x[:, feature_number], effective_digits[feature_number])"
   ]
  },
  {
   "cell_type": "code",
   "execution_count": null,
   "metadata": {
    "scrolled": true
   },
   "outputs": [],
   "source": [
    "generated_x # 念のため確認"
   ]
  },
  {
   "cell_type": "markdown",
   "metadata": {},
   "source": [
    "DataFrame 型に変換して csv ファイルに保存"
   ]
  },
  {
   "cell_type": "code",
   "execution_count": null,
   "metadata": {},
   "outputs": [],
   "source": [
    "generated_x = pd.DataFrame(generated_x, columns=x.columns) # pandas の DataFrame 型に変換し、特徴量の名前を x と同じに"
   ]
  },
  {
   "cell_type": "code",
   "execution_count": null,
   "metadata": {},
   "outputs": [],
   "source": [
    "generated_x.iloc[:30, :] # 念のため確認"
   ]
  },
  {
   "cell_type": "code",
   "execution_count": null,
   "metadata": {},
   "outputs": [],
   "source": [
    "generated_x.to_csv('virtual_resin_x_for_prediction.csv') # csv ファイルに保存"
   ]
  }
 ],
 "metadata": {
  "celltoolbar": "Slideshow",
  "kernelspec": {
   "display_name": "Python 3",
   "language": "python",
   "name": "python3"
  },
  "language_info": {
   "codemirror_mode": {
    "name": "ipython",
    "version": 3
   },
   "file_extension": ".py",
   "mimetype": "text/x-python",
   "name": "python",
   "nbconvert_exporter": "python",
   "pygments_lexer": "ipython3",
   "version": "3.7.3"
  }
 },
 "nbformat": 4,
 "nbformat_minor": 2
}
