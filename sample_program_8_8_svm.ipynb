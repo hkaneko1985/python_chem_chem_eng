{
 "cells": [
  {
   "cell_type": "markdown",
   "metadata": {},
   "source": [
    "# Python で気軽に化学・化学工学\n",
    "# 第 8 章 モデル y = f(x) を構築して、新たなサンプルの y を推定する\n",
    "## 8.8 ダブルクロスバリデーション (Double Cross-Validation, DCV)\n",
    "### サポートベクターマシン (Support Vector Machine, SVM)"
   ]
  },
  {
   "cell_type": "markdown",
   "metadata": {},
   "source": [
    "## Jupyter Notebook の有用なショートカットのまとめ\n",
    "- <kbd>Esc</kbd>: コマンドモードに移行（セルの枠が青）\n",
    "- <kbd>Enter</kbd>: 編集モードに移行（セルの枠が緑）\n",
    "- コマンドモードで <kbd>M</kbd>: Markdown セル (説明・メモを書く用) に変更\n",
    "- コマンドモードで <kbd>Y</kbd>: Code セル (Python コードを書く用) に変更\n",
    "- コマンドモードで <kbd>H</kbd>: ヘルプを表示\n",
    "- コマンドモードで <kbd>A</kbd>: ひとつ**上**に空のセルを挿入\n",
    "- コマンドモードで <kbd>B</kbd>: ひとつ**下**に空のセルを挿入\n",
    "- コマンドモードで <kbd>D</kbd><kbd>D</kbd>: セルを削除\n",
    "- <kbd>Ctrl</kbd>+<kbd>Enter</kbd>: セルの内容を実行\n",
    "- <kbd>Shift</kbd>+<kbd>Enter</kbd>: セルの内容を実行して下へ"
   ]
  },
  {
   "cell_type": "markdown",
   "metadata": {},
   "source": [
    "### あやめのデータセット (iris_with_species.csv)\n",
    "有名な [Fisher’s Iris Data](https://en.wikipedia.org/wiki/Iris_flower_data_set)。150個のあやめについて、がく片長(Sepal Length)、がく片幅(Sepal Width)、花びら長(Petal Length)、花びら幅(Petal Width)が計測されています。"
   ]
  },
  {
   "cell_type": "code",
   "execution_count": null,
   "metadata": {},
   "outputs": [],
   "source": [
    "import pandas as pd # pandas のインポート"
   ]
  },
  {
   "cell_type": "code",
   "execution_count": null,
   "metadata": {},
   "outputs": [],
   "source": [
    "dataset = pd.read_csv('iris_with_species.csv', index_col=0, header=0) # あやめのデータセットの読み込み"
   ]
  },
  {
   "cell_type": "markdown",
   "metadata": {},
   "source": [
    "SVM は 2 つのクラスを分類するための手法です。あやめのデータセットには、setosa, versicolor, virginica の 3 つのクラスがあるため、setosa と versicolor でまとめて 1 つのクラス `setosa+versicolor` とします。"
   ]
  },
  {
   "cell_type": "code",
   "execution_count": null,
   "metadata": {},
   "outputs": [],
   "source": [
    "dataset.iloc[0:100,0] = 'setosa+versicolor'"
   ]
  },
  {
   "cell_type": "code",
   "execution_count": null,
   "metadata": {},
   "outputs": [],
   "source": [
    "dataset # 念のため確認"
   ]
  },
  {
   "cell_type": "code",
   "execution_count": null,
   "metadata": {},
   "outputs": [],
   "source": [
    "# y と x に分割\n",
    "y = dataset.iloc[:,0]\n",
    "x = dataset.iloc[:,1:]"
   ]
  },
  {
   "cell_type": "code",
   "execution_count": null,
   "metadata": {},
   "outputs": [],
   "source": [
    "estimated_y_in_outer_cv = y.copy() # 外側の CV による y の推定結果を格納する変数"
   ]
  },
  {
   "cell_type": "code",
   "execution_count": null,
   "metadata": {},
   "outputs": [],
   "source": [
    "estimated_y_in_outer_cv # 念のため確認。実際の y と同じものになっています"
   ]
  },
  {
   "cell_type": "code",
   "execution_count": null,
   "metadata": {},
   "outputs": [],
   "source": [
    "outer_fold_number = 10 # 外側の CV における fold 数"
   ]
  },
  {
   "cell_type": "code",
   "execution_count": null,
   "metadata": {},
   "outputs": [],
   "source": [
    "fold_number = 5 # 内側の CV における fold 数"
   ]
  },
  {
   "cell_type": "markdown",
   "metadata": {},
   "source": [
    "外側の CV の分割"
   ]
  },
  {
   "cell_type": "code",
   "execution_count": null,
   "metadata": {},
   "outputs": [],
   "source": [
    "indexes = [] # fold の番号を格納する変数"
   ]
  },
  {
   "cell_type": "code",
   "execution_count": null,
   "metadata": {},
   "outputs": [],
   "source": [
    "for sample_number in range(x.shape[0]):\n",
    "    indexes.append(sample_number % outer_fold_number)"
   ]
  },
  {
   "cell_type": "code",
   "execution_count": null,
   "metadata": {},
   "outputs": [],
   "source": [
    "indexes # 念のため確認"
   ]
  },
  {
   "cell_type": "markdown",
   "metadata": {},
   "source": [
    "参考1 : for 文で list の変数を作成するとき、以下のリスト内包表記を用いることでコードがシンプルになり、また実行時間が短縮されます"
   ]
  },
  {
   "cell_type": "code",
   "execution_count": null,
   "metadata": {},
   "outputs": [],
   "source": [
    "indexes = [sample_number % outer_fold_number for sample_number in range(x.shape[0])]"
   ]
  },
  {
   "cell_type": "markdown",
   "metadata": {},
   "source": [
    "参考2 : 以下のようにすると for 文を使わずに `indexes` を準備できます"
   ]
  },
  {
   "cell_type": "code",
   "execution_count": null,
   "metadata": {},
   "outputs": [],
   "source": [
    "import numpy as np # NumPy のインポート\n",
    "from numpy import matlib\n",
    "min_number = x.shape[0] // outer_fold_number\n",
    "mod_number = x.shape[0] % outer_fold_number\n",
    "indexes = np.matlib.repmat(np.arange(outer_fold_number), 1, min_number).ravel()\n",
    "if mod_number != 0:\n",
    "    indexes = np.r_[indexes, np.arange(mod_number)]"
   ]
  },
  {
   "cell_type": "markdown",
   "metadata": {},
   "source": [
    "`indexes` をシャッフル"
   ]
  },
  {
   "cell_type": "code",
   "execution_count": null,
   "metadata": {},
   "outputs": [],
   "source": [
    "import numpy as np # NumPy のインポート"
   ]
  },
  {
   "cell_type": "code",
   "execution_count": null,
   "metadata": {},
   "outputs": [],
   "source": [
    "np.random.seed(99) # 再現性のため乱数の種を固定\n",
    "fold_index_in_outer_cv = np.random.permutation(indexes) # シャッフル\n",
    "np.random.seed() # 乱数の種の固定を解除"
   ]
  },
  {
   "cell_type": "code",
   "execution_count": null,
   "metadata": {},
   "outputs": [],
   "source": [
    "fold_index_in_outer_cv # 念のため確認"
   ]
  },
  {
   "cell_type": "markdown",
   "metadata": {},
   "source": [
    "ガウシアンカーネルを用いた SVM で DCV"
   ]
  },
  {
   "cell_type": "code",
   "execution_count": null,
   "metadata": {},
   "outputs": [],
   "source": [
    "nonlinear_svm_cs = 2 ** np.arange(-10, 11, 1.0) # Cの候補"
   ]
  },
  {
   "cell_type": "code",
   "execution_count": null,
   "metadata": {},
   "outputs": [],
   "source": [
    "nonlinear_svm_cs # 念のため確認"
   ]
  },
  {
   "cell_type": "code",
   "execution_count": null,
   "metadata": {},
   "outputs": [],
   "source": [
    "nonlinear_svm_gammas = 2 ** np.arange(-20, 11, 1.0) #ガウシアンカーネルのγの候補"
   ]
  },
  {
   "cell_type": "code",
   "execution_count": null,
   "metadata": {},
   "outputs": [],
   "source": [
    "nonlinear_svm_gammas # 念のため確認"
   ]
  },
  {
   "cell_type": "code",
   "execution_count": null,
   "metadata": {},
   "outputs": [],
   "source": [
    "from sklearn.model_selection import StratifiedKFold # 内側の CV の分割の設定に使用"
   ]
  },
  {
   "cell_type": "code",
   "execution_count": null,
   "metadata": {},
   "outputs": [],
   "source": [
    "fold = StratifiedKFold(n_splits=fold_number, shuffle=True, random_state=9) # 内側の CV の分割の設定。(KFold ではなく) StratifiedKFold を使用することで、fold ごとのクラスの割合がなるべく同じになるように分割されます"
   ]
  },
  {
   "cell_type": "code",
   "execution_count": null,
   "metadata": {},
   "outputs": [],
   "source": [
    "from sklearn.svm import SVC # SVM の実行に使用"
   ]
  },
  {
   "cell_type": "code",
   "execution_count": null,
   "metadata": {},
   "outputs": [],
   "source": [
    "model_for_cross_validation = SVC(kernel='rbf')"
   ]
  },
  {
   "cell_type": "markdown",
   "metadata": {},
   "source": [
    "内側の CV におけるグリッドサーチの設定"
   ]
  },
  {
   "cell_type": "code",
   "execution_count": null,
   "metadata": {},
   "outputs": [],
   "source": [
    "from sklearn.model_selection import GridSearchCV # グリッドサーチに使用"
   ]
  },
  {
   "cell_type": "code",
   "execution_count": null,
   "metadata": {},
   "outputs": [],
   "source": [
    "gs_cv = GridSearchCV(model_for_cross_validation, {'C':nonlinear_svm_cs, 'gamma':nonlinear_svm_gammas}, cv=fold) # クロスバリデーションによるグリッドサーチの設定"
   ]
  },
  {
   "cell_type": "markdown",
   "metadata": {},
   "source": [
    "DCV の実行"
   ]
  },
  {
   "cell_type": "code",
   "execution_count": null,
   "metadata": {},
   "outputs": [],
   "source": [
    "# 外側の CV\n",
    "for fold_number_in_outer_cv in range(outer_fold_number):\n",
    "    print(fold_number_in_outer_cv + 1, '/', outer_fold_number)\n",
    "    # トレーニングデータとテストデータに分割\n",
    "    x_train = x.iloc[fold_index_in_outer_cv != fold_number_in_outer_cv, :]\n",
    "    y_train = y.iloc[fold_index_in_outer_cv != fold_number_in_outer_cv]\n",
    "    x_test = x.iloc[fold_index_in_outer_cv == fold_number_in_outer_cv, :]\n",
    "    # 特徴量の標準化 (オートスケーリング)\n",
    "    autoscaled_x_train = (x_train - x_train.mean(axis=0)) / x_train.std(axis=0,ddof=1)\n",
    "    autoscaled_x_test = (x_test - x_train.mean(axis=0)) / x_train.std(axis=0,ddof=1)\n",
    "    # 内側の CV におけるグリッドサーチの実行\n",
    "    gs_cv.fit(autoscaled_x_train, y_train)\n",
    "    optimal_nonlinear_svm_c = gs_cv.best_params_['C'] # 最適な C\n",
    "    optimal_nonlinear_svm_gamma = gs_cv.best_params_['gamma'] # 最適な γ\n",
    "    # トレーニングデータを用いたモデル構築\n",
    "    model = SVC(kernel='rbf', C=optimal_nonlinear_svm_c, gamma=optimal_nonlinear_svm_gamma) # SVM モデルの宣言\n",
    "    model.fit(autoscaled_x_train, y_train) # SVMモデル構築\n",
    "    # テストデータの推定\n",
    "    estimated_y_test = model.predict(autoscaled_x_test) # テストデータの推定\n",
    "    estimated_y_in_outer_cv[fold_index_in_outer_cv==fold_number_in_outer_cv] = estimated_y_test # 推定結果を格納"
   ]
  },
  {
   "cell_type": "code",
   "execution_count": null,
   "metadata": {},
   "outputs": [],
   "source": [
    "estimated_y_in_outer_cv # 念のため確認"
   ]
  },
  {
   "cell_type": "markdown",
   "metadata": {},
   "source": [
    "DCV における混同行列、正解率"
   ]
  },
  {
   "cell_type": "code",
   "execution_count": null,
   "metadata": {},
   "outputs": [],
   "source": [
    "from sklearn import metrics # 混同行列の作成、正解率の計算に使用"
   ]
  },
  {
   "cell_type": "code",
   "execution_count": null,
   "metadata": {},
   "outputs": [],
   "source": [
    "class_types = list(set(y)) # リスト型に変換。これで混同行列における縦と横のクラスの順番を定めます"
   ]
  },
  {
   "cell_type": "code",
   "execution_count": null,
   "metadata": {},
   "outputs": [],
   "source": [
    "class_types.sort() # アルファベット順に並び替え"
   ]
  },
  {
   "cell_type": "code",
   "execution_count": null,
   "metadata": {},
   "outputs": [],
   "source": [
    "confusion_matrix_dcv = pd.DataFrame(metrics.confusion_matrix(y, estimated_y_in_outer_cv, labels=class_types)) # 混同行列を作成し、pandas の DataFrame 型に変換"
   ]
  },
  {
   "cell_type": "code",
   "execution_count": null,
   "metadata": {},
   "outputs": [],
   "source": [
    "confusion_matrix_dcv.index = class_types # 行の名前を、定めたクラスの名前に\n",
    "confusion_matrix_dcv.columns = class_types # 列の名前、定めたクラスの名前に"
   ]
  },
  {
   "cell_type": "code",
   "execution_count": null,
   "metadata": {},
   "outputs": [],
   "source": [
    "confusion_matrix_dcv # 確認"
   ]
  },
  {
   "cell_type": "code",
   "execution_count": null,
   "metadata": {},
   "outputs": [],
   "source": [
    "confusion_matrix_dcv.to_csv('confusion_matrix_dcv.csv') # csv ファイルに保存。同じ名前のファイルがあるときは上書きされますので注意してください"
   ]
  },
  {
   "cell_type": "code",
   "execution_count": null,
   "metadata": {},
   "outputs": [],
   "source": [
    "metrics.accuracy_score(y, estimated_y_in_outer_cv) # 正解率"
   ]
  },
  {
   "cell_type": "code",
   "execution_count": null,
   "metadata": {},
   "outputs": [],
   "source": [
    "estimated_y_in_outer_cv = pd.DataFrame(estimated_y_in_outer_cv) # pandas の DataFrame 型に変換"
   ]
  },
  {
   "cell_type": "code",
   "execution_count": null,
   "metadata": {},
   "outputs": [],
   "source": [
    "estimated_y_in_outer_cv.columns = ['estimated_class']"
   ]
  },
  {
   "cell_type": "code",
   "execution_count": null,
   "metadata": {},
   "outputs": [],
   "source": [
    "estimated_y_in_outer_cv.to_csv('estimated_y_dcv.csv') # csv ファイルに保存。同じ名前のファイルがあるときは上書きされますので注意してくださいa"
   ]
  },
  {
   "cell_type": "markdown",
   "metadata": {},
   "source": [
    "自分のデータセットをお持ちの方は、そのデータセットでも今回の内容を確認してみましょう。"
   ]
  }
 ],
 "metadata": {
  "celltoolbar": "Slideshow",
  "kernelspec": {
   "display_name": "Python 3",
   "language": "python",
   "name": "python3"
  },
  "language_info": {
   "codemirror_mode": {
    "name": "ipython",
    "version": 3
   },
   "file_extension": ".py",
   "mimetype": "text/x-python",
   "name": "python",
   "nbconvert_exporter": "python",
   "pygments_lexer": "ipython3",
   "version": "3.7.3"
  }
 },
 "nbformat": 4,
 "nbformat_minor": 2
}
