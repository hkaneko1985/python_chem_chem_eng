{
 "cells": [
  {
   "cell_type": "markdown",
   "metadata": {},
   "source": [
    "# Python で気軽に化学・化学工学\n",
    "# 第 5 章 5.2 ばらつきの小さい特徴量の削除"
   ]
  },
  {
   "cell_type": "markdown",
   "metadata": {},
   "source": [
    "## Jupyter Notebook の有用なショートカットのまとめ\n",
    "- <kbd>Esc</kbd>: コマンドモードに移行（セルの枠が青）\n",
    "- <kbd>Enter</kbd>: 編集モードに移行（セルの枠が緑）\n",
    "- コマンドモードで <kbd>M</kbd>: Markdown セル (説明・メモを書く用) に変更\n",
    "- コマンドモードで <kbd>Y</kbd>: Code セル (Python コードを書く用) に変更\n",
    "- コマンドモードで <kbd>H</kbd>: ヘルプを表示\n",
    "- コマンドモードで <kbd>A</kbd>: ひとつ**上**に空のセルを挿入\n",
    "- コマンドモードで <kbd>B</kbd>: ひとつ**下**に空のセルを挿入\n",
    "- コマンドモードで <kbd>D</kbd><kbd>D</kbd>: セルを削除\n",
    "- <kbd>Ctrl</kbd>+<kbd>Enter</kbd>: セルの内容を実行\n",
    "- <kbd>Shift</kbd>+<kbd>Enter</kbd>: セルの内容を実行して下へ"
   ]
  },
  {
   "cell_type": "markdown",
   "metadata": {},
   "source": [
    "わからないことがありましたら、関係する単語やエラーの文章などでウェブ検索してご自身で調べてみましょう。"
   ]
  },
  {
   "cell_type": "markdown",
   "metadata": {},
   "source": [
    "### 沸点のデータセット (descriptors_all_with_boiling_point.csv)\n",
    "Hall and Story が収集した[沸点のデータセット](https://pubs.acs.org/doi/abs/10.1021/ci960375x)。294 個の化合物について、沸点 (Boiling Point) が測定されており、200 の分子記述子 (特徴量) で化学構造が数値化されています。"
   ]
  },
  {
   "cell_type": "code",
   "execution_count": null,
   "metadata": {},
   "outputs": [],
   "source": [
    "import pandas as pd # pandas のインポート"
   ]
  },
  {
   "cell_type": "code",
   "execution_count": null,
   "metadata": {},
   "outputs": [],
   "source": [
    "dataset = pd.read_csv('descriptors_all_with_boiling_point.csv', index_col=0, header=0) # 沸点のデータセットの読み込み"
   ]
  },
  {
   "cell_type": "code",
   "execution_count": null,
   "metadata": {},
   "outputs": [],
   "source": [
    "dataset # 念のため確認"
   ]
  },
  {
   "cell_type": "code",
   "execution_count": null,
   "metadata": {},
   "outputs": [],
   "source": [
    "x = dataset.iloc[:, 1:] # 沸点以外の、分子構造の特徴量のみを x とします"
   ]
  },
  {
   "cell_type": "code",
   "execution_count": null,
   "metadata": {},
   "outputs": [],
   "source": [
    "x # 念のため確認"
   ]
  },
  {
   "cell_type": "code",
   "execution_count": null,
   "metadata": {},
   "outputs": [],
   "source": [
    "x.std() # 標準偏差の確認"
   ]
  },
  {
   "cell_type": "markdown",
   "metadata": {},
   "source": [
    "標準偏差が 0 の特徴量があることが分かります"
   ]
  },
  {
   "cell_type": "markdown",
   "metadata": {},
   "source": [
    "## ばらつきの小さい特徴量の削除"
   ]
  },
  {
   "cell_type": "code",
   "execution_count": null,
   "metadata": {},
   "outputs": [],
   "source": [
    "x.iloc[:, 5].value_counts()"
   ]
  },
  {
   "cell_type": "code",
   "execution_count": null,
   "metadata": {},
   "outputs": [],
   "source": [
    "x.iloc[:, 150].value_counts()"
   ]
  },
  {
   "cell_type": "code",
   "execution_count": null,
   "metadata": {},
   "outputs": [],
   "source": [
    "x.iloc[:, 70].value_counts()"
   ]
  },
  {
   "cell_type": "code",
   "execution_count": null,
   "metadata": {},
   "outputs": [],
   "source": [
    "x.iloc[:, 70].value_counts()[0]"
   ]
  },
  {
   "cell_type": "code",
   "execution_count": null,
   "metadata": {},
   "outputs": [],
   "source": [
    "x.iloc[:, 70].value_counts()[0] / x.shape[0]"
   ]
  },
  {
   "cell_type": "code",
   "execution_count": null,
   "metadata": {},
   "outputs": [],
   "source": [
    "threshold_of_rate_of_same_values = 0.8 # 同じ値をもつサンプルの割合の閾値"
   ]
  },
  {
   "cell_type": "code",
   "execution_count": null,
   "metadata": {},
   "outputs": [],
   "source": [
    "deleting_variable_numbers_in_same_values = [] # 空の list の変数を準備しておき、ここに同じ値をもつサンプルの割合が閾値以上となる特徴量の番号を入れていきます"
   ]
  },
  {
   "cell_type": "code",
   "execution_count": null,
   "metadata": {},
   "outputs": [],
   "source": [
    "for x_number in range(x.shape[1]):\n",
    "    same_value_numbers = x.iloc[:, x_number].value_counts()\n",
    "    if same_value_numbers.iloc[0] / x.shape[0] >= threshold_of_rate_of_same_values:\n",
    "        deleting_variable_numbers_in_same_values.append(x_number)"
   ]
  },
  {
   "cell_type": "code",
   "execution_count": null,
   "metadata": {
    "scrolled": false
   },
   "outputs": [],
   "source": [
    "deleting_variable_numbers_in_same_values # 念のため確認"
   ]
  },
  {
   "cell_type": "code",
   "execution_count": null,
   "metadata": {},
   "outputs": [],
   "source": [
    "len(deleting_variable_numbers_in_same_values) # 削除される特徴量の数"
   ]
  },
  {
   "cell_type": "code",
   "execution_count": null,
   "metadata": {},
   "outputs": [],
   "source": [
    "deleting_variable_numbers_in_same_values_df = pd.DataFrame(deleting_variable_numbers_in_same_values) # DataFrame 型に変換"
   ]
  },
  {
   "cell_type": "code",
   "execution_count": null,
   "metadata": {},
   "outputs": [],
   "source": [
    "x.columns[deleting_variable_numbers_in_same_values]"
   ]
  },
  {
   "cell_type": "code",
   "execution_count": null,
   "metadata": {},
   "outputs": [],
   "source": [
    "deleting_variable_numbers_in_same_values_df.index = x.columns[deleting_variable_numbers_in_same_values]  # 列の名前を特徴量の名前に"
   ]
  },
  {
   "cell_type": "code",
   "execution_count": null,
   "metadata": {},
   "outputs": [],
   "source": [
    "deleting_variable_numbers_in_same_values_df.columns = ['deleting variable numbers']"
   ]
  },
  {
   "cell_type": "code",
   "execution_count": null,
   "metadata": {},
   "outputs": [],
   "source": [
    "deleting_variable_numbers_in_same_values_df # 念のため確認"
   ]
  },
  {
   "cell_type": "code",
   "execution_count": null,
   "metadata": {},
   "outputs": [],
   "source": [
    "deleting_variable_numbers_in_same_values_df.to_csv('deleting_variable_numbers_in_same_values.csv')"
   ]
  },
  {
   "cell_type": "code",
   "execution_count": null,
   "metadata": {},
   "outputs": [],
   "source": [
    "deleting_variable_numbers_in_same_values_df.index"
   ]
  },
  {
   "cell_type": "code",
   "execution_count": null,
   "metadata": {},
   "outputs": [],
   "source": [
    "x.drop(deleting_variable_numbers_in_same_values_df.index, axis=1) # 特徴量の削除"
   ]
  },
  {
   "cell_type": "code",
   "execution_count": null,
   "metadata": {},
   "outputs": [],
   "source": [
    "x_new = x.drop(deleting_variable_numbers_in_same_values_df.index, axis=1) # 特徴量を削除したものを x_new にする"
   ]
  },
  {
   "cell_type": "code",
   "execution_count": null,
   "metadata": {},
   "outputs": [],
   "source": [
    "x_new # 念のため確認"
   ]
  },
  {
   "cell_type": "code",
   "execution_count": null,
   "metadata": {},
   "outputs": [],
   "source": [
    "x_new.std() # 特徴量の標準偏差の確認"
   ]
  },
  {
   "cell_type": "markdown",
   "metadata": {},
   "source": [
    "標準偏差が 0 の特徴量がありませんので、例えば以下のように特徴量の標準化ができます"
   ]
  },
  {
   "cell_type": "code",
   "execution_count": null,
   "metadata": {},
   "outputs": [],
   "source": [
    "autoscaled_x = (x_new - x_new.mean()) / x_new.std() # 平均を引いてから、標準偏差で割ります。x は DataFrame 型、x.mean(), x.std() は Series 型でデータ型は異なりますが、特徴量の名前が同じであるため、x のすべてのサンプルに対して x.mean() を引き、x.std() で割る計算になります。"
   ]
  },
  {
   "cell_type": "code",
   "execution_count": null,
   "metadata": {},
   "outputs": [],
   "source": [
    "autoscaled_x # 念のため確認"
   ]
  },
  {
   "cell_type": "code",
   "execution_count": null,
   "metadata": {},
   "outputs": [],
   "source": []
  },
  {
   "cell_type": "markdown",
   "metadata": {},
   "source": [
    "### 練習問題\n",
    "\n",
    "データセット `descriptors_all_with_logs.csv` を読み込み、95 % 以上のサンプルで同じ値をもつ特徴量を削除してから、特徴量の標準化をしましょう。一番下にコードの例があります。"
   ]
  },
  {
   "cell_type": "markdown",
   "metadata": {},
   "source": [
    "### 水溶解度のデータセット (descriptors_all_with_logs.csv)\n",
    "T. J.\tHou et al. が収集した[水溶解度のデータセット](https://pubs.acs.org/doi/abs/10.1021/ci034184n)。1290 個の化合物について、水溶解度が測定されており、200 の分子記述子 (特徴量) で化学構造が数値化されています。目的変数である logS とは、水への溶解度を S [mol/L] としたときの log(S) のことです。"
   ]
  },
  {
   "cell_type": "code",
   "execution_count": null,
   "metadata": {},
   "outputs": [],
   "source": []
  },
  {
   "cell_type": "markdown",
   "metadata": {},
   "source": [
    "### 練習問題 コードの例"
   ]
  },
  {
   "cell_type": "code",
   "execution_count": null,
   "metadata": {},
   "outputs": [],
   "source": [
    "import pandas as pd # pandas のインポート"
   ]
  },
  {
   "cell_type": "code",
   "execution_count": null,
   "metadata": {},
   "outputs": [],
   "source": [
    "dataset = pd.read_csv('descriptors_all_with_logs.csv', index_col=0, header=0) # 沸点のデータセットの読み込み"
   ]
  },
  {
   "cell_type": "code",
   "execution_count": null,
   "metadata": {},
   "outputs": [],
   "source": [
    "dataset # 念のため確認"
   ]
  },
  {
   "cell_type": "code",
   "execution_count": null,
   "metadata": {},
   "outputs": [],
   "source": [
    "x = dataset.iloc[:, 1:] # logS 以外の、分子構造の特徴量のみを x とします"
   ]
  },
  {
   "cell_type": "code",
   "execution_count": null,
   "metadata": {},
   "outputs": [],
   "source": [
    "x # 念のため確認"
   ]
  },
  {
   "cell_type": "code",
   "execution_count": null,
   "metadata": {},
   "outputs": [],
   "source": [
    "x.std() # 標準偏差の確認"
   ]
  },
  {
   "cell_type": "code",
   "execution_count": null,
   "metadata": {},
   "outputs": [],
   "source": [
    "threshold_of_rate_of_same_values = 0.95 # 同じ値をもつサンプルの割合の閾値"
   ]
  },
  {
   "cell_type": "code",
   "execution_count": null,
   "metadata": {},
   "outputs": [],
   "source": [
    "deleting_variable_numbers_in_same_values = [] # 空の list の変数を準備しておき、ここに同じ値をもつサンプルの割合が閾値以上となる特徴量の番号を入れていきます"
   ]
  },
  {
   "cell_type": "code",
   "execution_count": null,
   "metadata": {},
   "outputs": [],
   "source": [
    "for x_number in range(x.shape[1]):\n",
    "    same_value_numbers = x.iloc[:, x_number].value_counts()\n",
    "    if same_value_numbers.iloc[0] / x.shape[0] >= threshold_of_rate_of_same_values:\n",
    "        deleting_variable_numbers_in_same_values.append(x_number)"
   ]
  },
  {
   "cell_type": "code",
   "execution_count": null,
   "metadata": {
    "scrolled": false
   },
   "outputs": [],
   "source": [
    "deleting_variable_numbers_in_same_values # 念のため確認"
   ]
  },
  {
   "cell_type": "code",
   "execution_count": null,
   "metadata": {},
   "outputs": [],
   "source": [
    "len(deleting_variable_numbers_in_same_values) # 削除される特徴量の数"
   ]
  },
  {
   "cell_type": "code",
   "execution_count": null,
   "metadata": {},
   "outputs": [],
   "source": [
    "deleting_variable_numbers_in_same_values_df = pd.DataFrame(deleting_variable_numbers_in_same_values) # DataFrame 型に変換"
   ]
  },
  {
   "cell_type": "code",
   "execution_count": null,
   "metadata": {},
   "outputs": [],
   "source": [
    "x.columns[deleting_variable_numbers_in_same_values]"
   ]
  },
  {
   "cell_type": "code",
   "execution_count": null,
   "metadata": {},
   "outputs": [],
   "source": [
    "deleting_variable_numbers_in_same_values_df.index = x.columns[deleting_variable_numbers_in_same_values]  # 列の名前を特徴量の名前に"
   ]
  },
  {
   "cell_type": "code",
   "execution_count": null,
   "metadata": {},
   "outputs": [],
   "source": [
    "deleting_variable_numbers_in_same_values_df.columns = ['deleting variable numbers']"
   ]
  },
  {
   "cell_type": "code",
   "execution_count": null,
   "metadata": {},
   "outputs": [],
   "source": [
    "deleting_variable_numbers_in_same_values_df # 念のため確認"
   ]
  },
  {
   "cell_type": "code",
   "execution_count": null,
   "metadata": {},
   "outputs": [],
   "source": [
    "deleting_variable_numbers_in_same_values_df.to_csv('deleting_variable_numbers_in_same_values_logs.csv')"
   ]
  },
  {
   "cell_type": "code",
   "execution_count": null,
   "metadata": {},
   "outputs": [],
   "source": [
    "x_new = x.drop(deleting_variable_numbers_in_same_values_df.index, axis=1) # 特徴量を削除したものを x_new にする"
   ]
  },
  {
   "cell_type": "code",
   "execution_count": null,
   "metadata": {},
   "outputs": [],
   "source": [
    "x_new # 念のため確認"
   ]
  },
  {
   "cell_type": "code",
   "execution_count": null,
   "metadata": {},
   "outputs": [],
   "source": [
    "x_new.std() # 特徴量の標準偏差の確認"
   ]
  },
  {
   "cell_type": "code",
   "execution_count": null,
   "metadata": {},
   "outputs": [],
   "source": [
    "autoscaled_x = (x_new - x_new.mean()) / x_new.std() # 平均を引いてから、標準偏差で割ります。x は DataFrame 型、x.mean(), x.std() は Series 型でデータ型は異なりますが、特徴量の名前が同じであるため、x のすべてのサンプルに対して x.mean() を引き、x.std() で割る計算になります。"
   ]
  },
  {
   "cell_type": "code",
   "execution_count": null,
   "metadata": {},
   "outputs": [],
   "source": [
    "autoscaled_x # 念のため確認"
   ]
  },
  {
   "cell_type": "code",
   "execution_count": null,
   "metadata": {},
   "outputs": [],
   "source": []
  }
 ],
 "metadata": {
  "celltoolbar": "Slideshow",
  "kernelspec": {
   "display_name": "Python 3",
   "language": "python",
   "name": "python3"
  },
  "language_info": {
   "codemirror_mode": {
    "name": "ipython",
    "version": 3
   },
   "file_extension": ".py",
   "mimetype": "text/x-python",
   "name": "python",
   "nbconvert_exporter": "python",
   "pygments_lexer": "ipython3",
   "version": "3.6.9"
  }
 },
 "nbformat": 4,
 "nbformat_minor": 2
}
